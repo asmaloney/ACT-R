{
 "cells": [
  {
   "cell_type": "markdown",
   "id": "f46b500d",
   "metadata": {},
   "source": [
    "This code will run the ACT-R Environment tools and connect to a running version of ACT-R."
   ]
  },
  {
   "cell_type": "code",
   "execution_count": 3,
   "id": "9facd2e5",
   "metadata": {},
   "outputs": [],
   "source": [
    "import jenvstarter\n",
    "import multiprocessing\n",
    "multiprocessing.Process(target=jenvstarter.run_env).start() \n"
   ]
  },
  {
   "cell_type": "code",
   "execution_count": null,
   "id": "00ae5f0d",
   "metadata": {},
   "outputs": [],
   "source": []
  }
 ],
 "metadata": {
  "kernelspec": {
   "display_name": "Python 3",
   "language": "python",
   "name": "python3"
  },
  "language_info": {
   "codemirror_mode": {
    "name": "ipython",
    "version": 3
   },
   "file_extension": ".py",
   "mimetype": "text/x-python",
   "name": "python",
   "nbconvert_exporter": "python",
   "pygments_lexer": "ipython3",
   "version": "3.6.2"
  }
 },
 "nbformat": 4,
 "nbformat_minor": 5
}
